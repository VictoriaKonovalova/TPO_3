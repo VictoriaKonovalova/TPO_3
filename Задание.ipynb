{
 "cells": [
  {
   "cell_type": "markdown",
   "id": "e85a03c1",
   "metadata": {},
   "source": [
    "## Матричный метод"
   ]
  },
  {
   "cell_type": "code",
   "execution_count": 2,
   "id": "d5846b10",
   "metadata": {},
   "outputs": [
    {
     "name": "stdout",
     "output_type": "stream",
     "text": [
      "x1 = [[2.28947368]]\n",
      "x2 = [[4.23684211]]\n",
      "x3 = [[-10.92105263]]\n"
     ]
    }
   ],
   "source": [
    "import numpy as np\n",
    "A = np.matrix('9 1 2; 5 2 1; 7 7 4')\n",
    "B = np.matrix('3; 9; 2')\n",
    "if round(np.linalg.det(A), 3) != 0: \n",
    "    A_inv = np.linalg.inv(A)\n",
    "    R = A_inv.dot(B) \n",
    "    i = 1\n",
    "    for elem in R: \n",
    "        print(f\"x{i} = {elem}\") \n",
    "        i += 1\n",
    "else:\n",
    "    print(\"Определитель равен 0, систему решить нельзя\")"
   ]
  },
  {
   "cell_type": "markdown",
   "id": "cbb7662b",
   "metadata": {},
   "source": [
    "## Метод крамера "
   ]
  },
  {
   "cell_type": "code",
   "execution_count": 5,
   "id": "80f496dc",
   "metadata": {},
   "outputs": [
    {
     "name": "stdout",
     "output_type": "stream",
     "text": [
      "x1: 1.1538461538461537 x2: -3.076923076923077 x3: 3.769230769230769\n"
     ]
    }
   ],
   "source": [
    "import numpy as np\n",
    "A = np.matrix('7 1 0; 5 4 2; 7 5 3')\n",
    "B = np.matrix('5; 1; 4')\n",
    "if round(np.linalg.det(A), 3) != 0:\n",
    "    C = A.copy() \n",
    "    C[:, 0] = B[:, 0] \n",
    "    x1 = round(np.linalg.det(C), 3) / round(np.linalg.det(A), 3)\n",
    "    F = A.copy()  \n",
    "    F[:, 1] = B[:, 0] \n",
    "    x2 = round(np.linalg.det(F), 3) / round(np.linalg.det(A), 3) \n",
    "    J = A.copy() \n",
    "    J[:, 2] = B[:, 0] \n",
    "    x3 = round(np.linalg.det(J), 3) / round(np.linalg.det(A), 3) \n",
    "   \n",
    "    print(\"x1:\", x1, \"x2:\", x2, \"x3:\", x3)"
   ]
  }
 ],
 "metadata": {
  "kernelspec": {
   "display_name": "Python 3 (ipykernel)",
   "language": "python",
   "name": "python3"
  },
  "language_info": {
   "codemirror_mode": {
    "name": "ipython",
    "version": 3
   },
   "file_extension": ".py",
   "mimetype": "text/x-python",
   "name": "python",
   "nbconvert_exporter": "python",
   "pygments_lexer": "ipython3",
   "version": "3.9.13"
  }
 },
 "nbformat": 4,
 "nbformat_minor": 5
}
