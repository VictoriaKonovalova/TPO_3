{
 "cells": [
  {
   "cell_type": "code",
   "execution_count": 1,
   "id": "531f86db",
   "metadata": {},
   "outputs": [],
   "source": [
    "import numpy as np"
   ]
  },
  {
   "cell_type": "markdown",
   "id": "73d45592",
   "metadata": {},
   "source": [
    "##### Произведение матрицы на сумму чисел равно сумме произведений матрицы на каждое из этих чисел:"
   ]
  },
  {
   "cell_type": "code",
   "execution_count": 2,
   "id": "0c58afca",
   "metadata": {
    "scrolled": true
   },
   "outputs": [
    {
     "name": "stdout",
     "output_type": "stream",
     "text": [
      "L= [[450 150  60]\n",
      " [ 70  40  60]\n",
      " [ 30 340 160]]\n",
      "R= [[450 150  60]\n",
      " [ 70  40  60]\n",
      " [ 30 340 160]]\n"
     ]
    }
   ],
   "source": [
    "A=np.matrix('45 15 6; 7 4 6; 3 34 16')\n",
    "p=3\n",
    "q=7\n",
    "L=(p+q)*A\n",
    "R=p*A+q*A\n",
    "print(f\"L= {L}\")\n",
    "print(f\"R= {R}\")"
   ]
  },
  {
   "cell_type": "markdown",
   "id": "5ddb81c4",
   "metadata": {},
   "source": [
    "##### Произведение суммы матриц на число равно сумме произведений этих матриц на заданное число:"
   ]
  },
  {
   "cell_type": "code",
   "execution_count": 3,
   "id": "d64a2c80",
   "metadata": {},
   "outputs": [
    {
     "name": "stdout",
     "output_type": "stream",
     "text": [
      "L= [[ 42  72  84]\n",
      " [ 24 180  36]]\n",
      "R= [[ 42  72  84]\n",
      " [ 24 180  36]]\n"
     ]
    }
   ],
   "source": [
    "A = np.matrix('9 18 2; 4 13 4')\n",
    "B = np.matrix('5 6 26; 4 47 8')\n",
    "k = 3\n",
    "L = k * (A + B)\n",
    "R = k * A + k * B\n",
    "print(f\"L= {L}\")\n",
    "print(f\"R= {R}\")"
   ]
  },
  {
   "cell_type": "markdown",
   "id": "af917306",
   "metadata": {},
   "source": [
    "##### Ассоциативность сложения. Результат сложения трех и более матриц не зависит от порядка, в котором эта операция будет выполняться:"
   ]
  },
  {
   "cell_type": "code",
   "execution_count": 4,
   "id": "d4a8562d",
   "metadata": {},
   "outputs": [],
   "source": [
    "A = np.matrix('11 23 4 ; 21 3 4')\n",
    "B = np.matrix('25 32 6; 7 11 28')\n",
    "C = np.matrix('1 22 7; 19 23 3')\n",
    "L = A + (B + C)\n",
    "R = (A + B) + C"
   ]
  },
  {
   "cell_type": "markdown",
   "id": "7368de3f",
   "metadata": {},
   "source": [
    "##### При перестановке строк матрицы знак ее определителя меняется на противоположный:"
   ]
  },
  {
   "cell_type": "code",
   "execution_count": 5,
   "id": "343fd0a3",
   "metadata": {},
   "outputs": [
    {
     "name": "stdout",
     "output_type": "stream",
     "text": [
      "A= [[-4 -1  2]\n",
      " [10  4 -1]\n",
      " [ 8  3  1]]\n",
      "B= [[10  4 -1]\n",
      " [-4 -1  2]\n",
      " [ 8  3  1]]\n",
      "-14.0\n",
      "14.0\n"
     ]
    }
   ],
   "source": [
    "A = np.matrix('-4 -1 2; 10 4 -1; 8 3 1')\n",
    "print(f\"A= {A}\")\n",
    "B = np.matrix('10 4 -1; -4 -1 2; 8 3 1')\n",
    "print(f\"B= {B}\")\n",
    "print(round(np.linalg.det(A),3))\n",
    "print(round(np.linalg.det(B),3))"
   ]
  },
  {
   "cell_type": "markdown",
   "id": "e8d1058d",
   "metadata": {},
   "source": [
    "##### Если все элементы строки или столбца матрицы умножить на какое-то число, то и определитель будет умножен на это число:"
   ]
  },
  {
   "cell_type": "code",
   "execution_count": 6,
   "id": "8f595d0a",
   "metadata": {},
   "outputs": [
    {
     "name": "stdout",
     "output_type": "stream",
     "text": [
      "[[ 5 11  2  6]\n",
      " [10  4  4  1]\n",
      " [ 8 33  1  6]\n",
      " [ 7  8  3 21]]\n",
      "[[ 5 10  8  7]\n",
      " [11  4 33  8]\n",
      " [ 2  4  1  3]\n",
      " [ 6  1  6 21]]\n"
     ]
    }
   ],
   "source": [
    "A=np.matrix('5 11 2 6; 10 4 4 1; 8 33 1 6;7 8 3 21')\n",
    "print(A)\n",
    "print(A.T)"
   ]
  },
  {
   "cell_type": "code",
   "execution_count": 7,
   "id": "ce2c3f72",
   "metadata": {},
   "outputs": [
    {
     "name": "stdout",
     "output_type": "stream",
     "text": [
      "3156.0\n",
      "3156.0\n"
     ]
    }
   ],
   "source": [
    "det_A=round(np.linalg.det(A),3)\n",
    "det_A_t=round(np.linalg.det(A.T),3)\n",
    "print(det_A)\n",
    "print(det_A_t)"
   ]
  },
  {
   "cell_type": "markdown",
   "id": "1cfd2e19",
   "metadata": {},
   "source": [
    "##### Обратная матрица транспонированной матрицы равна транспонированной матрице от обратной матрицы:"
   ]
  },
  {
   "cell_type": "code",
   "execution_count": 8,
   "id": "494ee569",
   "metadata": {
    "scrolled": true
   },
   "outputs": [
    {
     "name": "stdout",
     "output_type": "stream",
     "text": [
      "[[ 0.08333333  0.05555556]\n",
      " [-0.08333333  0.11111111]]\n",
      "[[ 0.08333333  0.05555556]\n",
      " [-0.08333333  0.11111111]]\n"
     ]
    }
   ],
   "source": [
    "A = np.matrix('8. 6.; -4. 6.')\n",
    "L = np.linalg.inv(A.T)\n",
    "R = (np.linalg.inv(A)).T\n",
    "print(L)\n",
    "print(R)"
   ]
  },
  {
   "cell_type": "markdown",
   "id": "d0fa190e",
   "metadata": {},
   "source": [
    "##### Обратная матрица произведения матриц равна произведению обратных матриц:"
   ]
  },
  {
   "cell_type": "code",
   "execution_count": 9,
   "id": "0fff667e",
   "metadata": {},
   "outputs": [
    {
     "name": "stdout",
     "output_type": "stream",
     "text": [
      "[[-0.04242424 -0.00484848]\n",
      " [-0.00909091 -0.00818182]]\n",
      "[[-0.04242424 -0.00484848]\n",
      " [-0.00909091 -0.00818182]]\n"
     ]
    }
   ],
   "source": [
    "A=np.matrix('4. 1.; -2. 16.')\n",
    "B=np.matrix('-7. 6.;1. -8.')\n",
    "L=np.linalg.inv(A.dot(B))\n",
    "R=np.linalg.inv(B).dot(np.linalg.inv(A))\n",
    "print(L)\n",
    "print(R)"
   ]
  },
  {
   "cell_type": "markdown",
   "id": "8fb366b4",
   "metadata": {},
   "source": [
    "#####  Если у матрицы есть строка или столбец, состоящие из нулей, то определитель такой матрицы равен нулю"
   ]
  },
  {
   "cell_type": "code",
   "execution_count": 10,
   "id": "31491357",
   "metadata": {},
   "outputs": [
    {
     "name": "stdout",
     "output_type": "stream",
     "text": [
      "[[-4 -1  2]\n",
      " [ 0  0  0]\n",
      " [ 8  3  1]]\n"
     ]
    },
    {
     "data": {
      "text/plain": [
       "0.0"
      ]
     },
     "execution_count": 10,
     "metadata": {},
     "output_type": "execute_result"
    }
   ],
   "source": [
    "A=np.matrix('-4 -1 2; 0 0 0; 8 3 1')\n",
    "print(A)\n",
    "np.linalg.det(A)"
   ]
  },
  {
   "cell_type": "code",
   "execution_count": null,
   "id": "355ab058",
   "metadata": {},
   "outputs": [],
   "source": []
  }
 ],
 "metadata": {
  "kernelspec": {
   "display_name": "Python 3 (ipykernel)",
   "language": "python",
   "name": "python3"
  },
  "language_info": {
   "codemirror_mode": {
    "name": "ipython",
    "version": 3
   },
   "file_extension": ".py",
   "mimetype": "text/x-python",
   "name": "python",
   "nbconvert_exporter": "python",
   "pygments_lexer": "ipython3",
   "version": "3.9.13"
  }
 },
 "nbformat": 4,
 "nbformat_minor": 5
}
